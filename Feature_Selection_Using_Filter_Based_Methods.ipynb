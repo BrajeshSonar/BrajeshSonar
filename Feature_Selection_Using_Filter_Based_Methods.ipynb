{
  "nbformat": 4,
  "nbformat_minor": 0,
  "metadata": {
    "colab": {
      "provenance": [],
      "include_colab_link": true
    },
    "kernelspec": {
      "name": "python3",
      "display_name": "Python 3"
    },
    "language_info": {
      "name": "python"
    }
  },
  "cells": [
    {
      "cell_type": "markdown",
      "metadata": {
        "id": "view-in-github",
        "colab_type": "text"
      },
      "source": [
        "<a href=\"https://colab.research.google.com/github/BrajeshSonar/BrajeshSonar/blob/main/Feature_Selection_Using_Filter_Based_Methods.ipynb\" target=\"_parent\"><img src=\"https://colab.research.google.com/assets/colab-badge.svg\" alt=\"Open In Colab\"/></a>"
      ]
    },
    {
      "cell_type": "code",
      "execution_count": null,
      "metadata": {
        "colab": {
          "base_uri": "https://localhost:8080/"
        },
        "id": "PDCK66bDo3lB",
        "outputId": "2d563a57-24e1-4134-8c06-c901578604c3"
      },
      "outputs": [
        {
          "output_type": "stream",
          "name": "stderr",
          "text": [
            "<ipython-input-6-63fd7756a9c9>:12: FutureWarning: The 'delim_whitespace' keyword in pd.read_csv is deprecated and will be removed in a future version. Use ``sep='\\s+'`` instead\n",
            "  X_train = pd.read_csv(\"/content/drive/MyDrive/Colab Notebooks/UCI HAR Dataset/train/X_train.txt\", delim_whitespace=True, header=None)\n",
            "<ipython-input-6-63fd7756a9c9>:14: FutureWarning: The 'delim_whitespace' keyword in pd.read_csv is deprecated and will be removed in a future version. Use ``sep='\\s+'`` instead\n",
            "  X_test = pd.read_csv(\"/content/drive/MyDrive/Colab Notebooks/UCI HAR Dataset/test/X_test.txt\", delim_whitespace=True, header=None)\n"
          ]
        }
      ],
      "source": [
        "import pandas as pd\n",
        "from sklearn.ensemble import RandomForestClassifier\n",
        "from sklearn.metrics import accuracy_score\n",
        "from sklearn.feature_selection import mutual_info_classif, f_classif\n",
        "import matplotlib.pyplot as plt\n",
        "\n",
        "# Load the dataset\n",
        "features_df = pd.read_csv(\"/content/drive/MyDrive/Colab Notebooks/UCI HAR Dataset/features.txt\", sep=\"\\s+\", header=None, names=[\"index\", \"feature\"])\n",
        "features = features_df[\"feature\"].values\n",
        "\n",
        "# Load data\n",
        "X_train = pd.read_csv(\"/content/drive/MyDrive/Colab Notebooks/UCI HAR Dataset/train/X_train.txt\", delim_whitespace=True, header=None)\n",
        "y_train = pd.read_csv(\"/content/drive/MyDrive/Colab Notebooks/UCI HAR Dataset/train/y_train.txt\", header=None)\n",
        "X_test = pd.read_csv(\"/content/drive/MyDrive/Colab Notebooks/UCI HAR Dataset/test/X_test.txt\", delim_whitespace=True, header=None)\n",
        "y_test = pd.read_csv(\"/content/drive/MyDrive/Colab Notebooks/UCI HAR Dataset/test/y_test.txt\", header=None)\n",
        "\n",
        "# Assign column names\n",
        "X_train.columns = features\n",
        "X_test.columns = features\n",
        "y_train.columns = ['Activity']\n",
        "y_test.columns = ['Activity']\n",
        "\n"
      ]
    },
    {
      "cell_type": "code",
      "source": [
        "# --- STEP 2: Train baseline model on ALL features ---\n",
        "\n",
        "clf_all = RandomForestClassifier(random_state=42)\n",
        "clf_all.fit(X_train, y_train)\n",
        "y_pred_all = clf_all.predict(X_test)\n",
        "acc_all = accuracy_score(y_test, y_pred_all)\n",
        "print(f\"\\n Accuracy using ALL features: {acc_all:.4f}\")\n",
        "\n"
      ],
      "metadata": {
        "colab": {
          "base_uri": "https://localhost:8080/"
        },
        "id": "U1xTlwQ1jD01",
        "outputId": "9e47358e-51bd-49d8-9648-4ad0cab2f324"
      },
      "execution_count": null,
      "outputs": [
        {
          "output_type": "stream",
          "name": "stderr",
          "text": [
            "/usr/local/lib/python3.11/dist-packages/sklearn/base.py:1389: DataConversionWarning: A column-vector y was passed when a 1d array was expected. Please change the shape of y to (n_samples,), for example using ravel().\n",
            "  return fit_method(estimator, *args, **kwargs)\n"
          ]
        },
        {
          "output_type": "stream",
          "name": "stdout",
          "text": [
            "\n",
            " Accuracy using ALL features: 0.9257\n"
          ]
        }
      ]
    },
    {
      "cell_type": "code",
      "source": [
        "# --- STEP 3: Filter-based Feature Selection (Mutual Info + Fisher-score) ---\n",
        "# Mutual Information\n",
        "mi_scores = mutual_info_classif(X_train, y_train)\n",
        "mi_series = pd.Series(mi_scores, index=X_train.columns)\n",
        "\n",
        "# Fisher-score\n",
        "f_scores, _ = f_classif(X_train, y_train)\n",
        "f_series = pd.Series(f_scores, index=X_train.columns)\n",
        "\n",
        "# Combine scores (average of ranks)\n",
        "combined_scores = (mi_series.rank() + f_series.rank()) / 2\n",
        "\n",
        "# Sort features by combined rank (lower is better)\n",
        "sorted_features = combined_scores.sort_values()\n",
        "\n",
        "# Automatically select top N features where N = 50% of total features\n",
        "N = len(sorted_features) // 2\n",
        "selected_features = sorted_features.iloc[:N].index.tolist()\n",
        "\n",
        "print(f\"\\nSelected Top-{len(selected_features)} Features (Auto N = 50%):\\n\", selected_features)"
      ],
      "metadata": {
        "colab": {
          "base_uri": "https://localhost:8080/"
        },
        "id": "15HL3DqhjFVO",
        "outputId": "1edc6e15-2c35-4e3a-9649-378d1bb63bea"
      },
      "execution_count": null,
      "outputs": [
        {
          "output_type": "stream",
          "name": "stderr",
          "text": [
            "/usr/local/lib/python3.11/dist-packages/sklearn/utils/validation.py:1408: DataConversionWarning: A column-vector y was passed when a 1d array was expected. Please change the shape of y to (n_samples, ), for example using ravel().\n",
            "  y = column_or_1d(y, warn=True)\n"
          ]
        },
        {
          "output_type": "stream",
          "name": "stdout",
          "text": [
            "\n",
            "Selected Top-280 Features (Auto N = 50%):\n",
            " ['tBodyGyroJerk-arCoeff()-X,4', 'tBodyGyroJerkMag-arCoeff()3', 'tBodyAccJerkMag-arCoeff()3', 'tBodyGyroJerk-arCoeff()-Y,4', 'tBodyGyroMag-arCoeff()4', 'tBodyGyroMag-arCoeff()3', 'angle(tBodyGyroJerkMean,gravityMean)', 'tBodyAccJerk-arCoeff()-X,2', 'tBodyAcc-arCoeff()-Y,4', 'tBodyGyroJerk-arCoeff()-Y,3', 'tBodyGyro-arCoeff()-X,3', 'tBodyAccJerk-arCoeff()-Y,4', 'tBodyAccJerkMag-arCoeff()4', 'tBodyAccJerk-arCoeff()-Y,3', 'tBodyGyroJerk-correlation()-X,Z', 'tBodyAcc-arCoeff()-Y,3', 'tBodyGyroJerkMag-arCoeff()4', 'fBodyBodyGyroJerkMag-meanFreq()', 'tBodyGyro-arCoeff()-Y,4', 'fBodyGyro-kurtosis()-X', 'tBodyAcc-arCoeff()-Z,4', 'tBodyAccJerk-arCoeff()-Y,2', 'fBodyGyro-skewness()-X', 'tBodyGyroJerk-correlation()-X,Y', 'tBodyGyroJerk-arCoeff()-Z,4', 'tBodyGyro-arCoeff()-Y,3', 'fBodyBodyGyroMag-kurtosis()', 'tBodyGyroJerk-correlation()-Y,Z', 'angle(tBodyAccJerkMean),gravityMean)', 'tBodyAccJerk-correlation()-X,Z', 'tBodyGyroJerk-arCoeff()-X,3', 'tBodyAcc-arCoeff()-Z,3', 'tGravityAcc-entropy()-Z', 'tBodyAcc-mean()-Z', 'tBodyGyroMag-arCoeff()2', 'tBodyGyro-arCoeff()-X,4', 'fBodyGyro-meanFreq()-Y', 'tBodyGyro-correlation()-X,Y', 'tBodyAccJerk-arCoeff()-Z,2', 'fBodyBodyGyroMag-skewness()', 'tBodyAcc-mean()-Y', 'angle(tBodyAccMean,gravity)', 'tBodyGyroMag-arCoeff()1', 'fBodyBodyGyroJerkMag-kurtosis()', 'tBodyAccJerk-arCoeff()-Z,4', 'fBodyAccMag-skewness()', 'tBodyGyroJerkMag-arCoeff()1', 'tBodyAccJerk-arCoeff()-Z,3', 'tBodyAccJerk-correlation()-Y,Z', 'tBodyAcc-correlation()-X,Z', 'tBodyGyroJerkMag-arCoeff()2', 'fBodyAccMag-kurtosis()', 'fBodyGyro-kurtosis()-Z', 'tBodyGyro-correlation()-X,Z', 'fBodyGyro-skewness()-Z', 'tBodyAcc-arCoeff()-X,4', 'fBodyAcc-kurtosis()-Z', 'tBodyGyro-arCoeff()-Z,4', 'fBodyAccMag-meanFreq()', 'fBodyBodyGyroJerkMag-skewness()', 'tBodyAccJerk-mean()-Z', 'fBodyAccJerk-maxInds-Y', 'fBodyGyro-kurtosis()-Y', 'fBodyGyro-maxInds-X', 'fBodyAcc-skewness()-Z', 'tBodyAcc-arCoeff()-X,3', 'tGravityAcc-correlation()-X,Z', 'tBodyGyroJerk-arCoeff()-Y,2', 'fBodyGyro-skewness()-Y', 'tBodyGyro-mean()-Y', 'tGravityAccMag-arCoeff()4', 'tBodyAccMag-arCoeff()4', 'tGravityAcc-iqr()-Z', 'tBodyGyro-mean()-Z', 'tBodyAcc-mean()-X', 'fBodyBodyGyroJerkMag-maxInds', 'tGravityAcc-iqr()-Y', 'tBodyAccJerk-mean()-Y', 'tBodyAccJerk-correlation()-X,Y', 'fBodyAcc-kurtosis()-Y', 'fBodyGyro-meanFreq()-X', 'tGravityAccMag-arCoeff()3', 'tBodyAccMag-arCoeff()3', 'tBodyGyroJerk-mean()-Y', 'tBodyGyroJerk-mean()-Z', 'tBodyGyroJerk-arCoeff()-Z,3', 'tGravityAcc-mad()-Z', 'fBodyAcc-skewness()-Y', 'fBodyAccJerk-kurtosis()-Z', 'tBodyGyro-arCoeff()-Y,1', 'angle(tBodyGyroMean,gravityMean)', 'tGravityAcc-std()-Z', 'fBodyGyro-meanFreq()-Z', 'tBodyGyroJerk-arCoeff()-X,2', 'fBodyAcc-meanFreq()-Y', 'fBodyBodyAccJerkMag-maxInds', 'fBodyBodyGyroMag-meanFreq()', 'tGravityAcc-mad()-Y', 'tGravityAcc-correlation()-X,Y', 'tBodyAccJerk-arCoeff()-X,4', 'tGravityAcc-std()-Y', 'tBodyGyroJerk-mean()-X', 'tBodyAccJerk-mean()-X', 'fBodyAccJerk-kurtosis()-Y', 'tGravityAcc-iqr()-X', 'fBodyBodyAccJerkMag-meanFreq()', 'tGravityAcc-arCoeff()-Z,4', 'tBodyGyroJerk-arCoeff()-Y,1', 'tBodyGyro-mean()-X', 'tGravityAcc-arCoeff()-Y,4', 'tGravityAcc-arCoeff()-Z,3', 'tBodyGyro-arCoeff()-Y,2', 'tGravityAcc-correlation()-Y,Z', 'tBodyAccJerk-arCoeff()-X,3', 'tGravityAcc-arCoeff()-Y,3', 'tGravityAcc-arCoeff()-Z,2', 'tGravityAcc-mad()-X', 'tGravityAcc-arCoeff()-Z,1', 'fBodyAcc-meanFreq()-Z', 'fBodyAccJerk-maxInds-Z', 'tGravityAcc-std()-X', 'tGravityAcc-arCoeff()-Y,2', 'fBodyAccJerk-skewness()-Z', 'fBodyAccJerk-kurtosis()-X', 'fBodyAcc-bandsEnergy()-57,64', 'fBodyAcc-maxInds-Z', 'fBodyBodyAccJerkMag-kurtosis()', 'tGravityAcc-arCoeff()-Y,1', 'fBodyBodyGyroMag-maxInds', 'fBodyGyro-bandsEnergy()-57,64', 'tGravityAcc-entropy()-Y', 'fBodyGyro-bandsEnergy()-57,64', 'fBodyAcc-maxInds-X', 'tBodyAcc-correlation()-Y,Z', 'tGravityAcc-sma()', 'fBodyAccJerk-skewness()-Y', 'fBodyAcc-maxInds-Y', 'fBodyAcc-bandsEnergy()-57,64', 'fBodyBodyAccJerkMag-skewness()', 'tBodyGyro-arCoeff()-X,2', 'tBodyGyroJerk-arCoeff()-X,1', 'fBodyGyro-bandsEnergy()-57,64', 'tGravityAcc-entropy()-X', 'tBodyGyro-correlation()-Y,Z', 'fBodyAccJerk-bandsEnergy()-57,64', 'fBodyGyro-maxInds-Y', 'tGravityAcc-arCoeff()-X,1', 'fBodyAccJerk-bandsEnergy()-57,64', 'fBodyAccJerk-bandsEnergy()-57,64', 'tBodyAcc-arCoeff()-Y,2', 'tBodyGyro-arCoeff()-Z,3', 'fBodyAcc-kurtosis()-X', 'tBodyAccMag-arCoeff()2', 'tGravityAccMag-arCoeff()2', 'tBodyAcc-arCoeff()-Z,2', 'tGravityAcc-arCoeff()-X,2', 'tBodyAcc-correlation()-X,Y', 'tBodyGyro-arCoeff()-X,1', 'tBodyAccJerkMag-arCoeff()2', 'fBodyAccMag-maxInds', 'fBodyGyro-maxInds-Z', 'fBodyAcc-min()-Z', 'fBodyAccJerk-skewness()-X', 'tGravityAccMag-arCoeff()1', 'tBodyAccMag-arCoeff()1', 'tGravityAcc-arCoeff()-X,3', 'tBodyGyroMag-entropy()', 'fBodyGyro-min()-Z', 'fBodyAcc-bandsEnergy()-57,64', 'tBodyAcc-arCoeff()-X,2', 'fBodyGyro-bandsEnergy()-49,64', 'fBodyGyro-bandsEnergy()-49,64', 'tBodyGyroJerk-arCoeff()-Z,2', 'fBodyAcc-skewness()-X', 'tBodyGyro-entropy()-X', 'tBodyAcc-arCoeff()-Y,1', 'tBodyAccJerkMag-arCoeff()1', 'fBodyAccMag-min()', 'fBodyGyro-min()-X', 'tBodyAcc-arCoeff()-Z,1', 'tGravityAcc-arCoeff()-X,4', 'fBodyAcc-min()-Y', 'fBodyGyro-bandsEnergy()-49,64', 'tBodyAccJerk-arCoeff()-Y,1', 'fBodyAccJerk-meanFreq()-Y', 'fBodyGyro-bandsEnergy()-49,56', 'fBodyGyro-bandsEnergy()-49,56', 'fBodyAcc-bandsEnergy()-49,64', 'fBodyAcc-meanFreq()-X', 'fBodyBodyGyroMag-min()', 'tBodyGyro-entropy()-Y', 'fBodyAccJerk-meanFreq()-Z', 'fBodyGyro-bandsEnergy()-49,56', 'tBodyAccJerk-arCoeff()-Z,1', 'fBodyGyro-min()-Y', 'fBodyGyro-bandsEnergy()-9,16', 'fBodyAccJerk-min()-Z', 'fBodyGyro-bandsEnergy()-33,40', 'fBodyGyro-bandsEnergy()-33,40', 'tBodyGyro-arCoeff()-Z,1', 'fBodyAcc-bandsEnergy()-49,56', 'fBodyAcc-bandsEnergy()-49,64', 'fBodyGyro-bandsEnergy()-17,24', 'fBodyAccJerk-maxInds-X', 'fBodyGyro-bandsEnergy()-33,40', 'fBodyGyro-bandsEnergy()-33,48', 'fBodyGyro-bandsEnergy()-41,48', 'fBodyGyro-bandsEnergy()-33,48', 'fBodyGyro-bandsEnergy()-25,32', 'fBodyAccJerk-min()-Y', 'fBodyAcc-min()-X', 'fBodyGyro-bandsEnergy()-41,48', 'fBodyGyro-bandsEnergy()-25,32', 'fBodyGyro-bandsEnergy()-25,32', 'fBodyGyro-bandsEnergy()-17,32', 'fBodyAcc-bandsEnergy()-41,48', 'fBodyGyro-bandsEnergy()-25,48', 'fBodyGyro-bandsEnergy()-41,48', 'fBodyAcc-bandsEnergy()-33,40', 'tBodyGyroJerk-arCoeff()-Z,1', 'fBodyAccJerk-min()-X', 'fBodyAcc-bandsEnergy()-49,56', 'tBodyGyro-entropy()-Z', 'fBodyGyro-bandsEnergy()-25,48', 'fBodyGyro-bandsEnergy()-33,48', 'fBodyAcc-bandsEnergy()-33,48', 'tBodyGyro-arCoeff()-Z,2', 'fBodyBodyGyroJerkMag-min()', 'fBodyGyro-bandsEnergy()-25,48', 'fBodyAccJerk-bandsEnergy()-49,64', 'fBodyAcc-bandsEnergy()-25,32', 'fBodyAccJerk-bandsEnergy()-33,40', 'fBodyAcc-bandsEnergy()-49,64', 'tBodyGyro-energy()-Y', 'angle(Z,gravityMean)', 'fBodyBodyAccJerkMag-min()', 'tBodyAcc-energy()-Z', 'fBodyAccJerk-bandsEnergy()-49,56', 'fBodyAcc-bandsEnergy()-25,48', 'tBodyAcc-arCoeff()-X,1', 'tGravityAcc-mean()-Z', 'fBodyAccJerk-bandsEnergy()-25,32', 'fBodyAccJerk-bandsEnergy()-41,48', 'fBodyBodyGyroMag-energy()', 'tGravityAcc-energy()-Z', 'tBodyGyro-energy()-Z', 'fBodyAcc-bandsEnergy()-33,40', 'tBodyAccJerk-arCoeff()-X,1', 'fBodyAcc-bandsEnergy()-41,48', 'fBodyAccJerk-meanFreq()-X', 'fBodyAcc-bandsEnergy()-33,48', 'fBodyAcc-bandsEnergy()-1,8', 'fBodyGyro-energy()-Y', 'fBodyAcc-bandsEnergy()-1,24', 'fBodyAccJerk-bandsEnergy()-1,8', 'fBodyAcc-bandsEnergy()-1,16', 'tBodyAcc-entropy()-Z', 'fBodyAcc-energy()-Z', 'fBodyBodyGyroJerkMag-energy()', 'fBodyGyro-bandsEnergy()-1,16', 'fBodyGyro-bandsEnergy()-1,8', 'fBodyAcc-bandsEnergy()-25,32', 'fBodyAccJerk-bandsEnergy()-49,56', 'fBodyBodyGyroMag-max()', 'tBodyGyroJerk-energy()-Y', 'fBodyAccJerk-bandsEnergy()-33,40', 'fBodyAccJerk-bandsEnergy()-49,64', 'fBodyGyro-bandsEnergy()-1,24', 'fBodyAcc-bandsEnergy()-49,56', 'fBodyAccJerk-bandsEnergy()-1,16', 'tGravityAcc-energy()-Y', 'fBodyAccJerk-bandsEnergy()-25,32', 'fBodyGyro-bandsEnergy()-1,8', 'fBodyAccJerk-bandsEnergy()-33,48', 'fBodyAcc-bandsEnergy()-25,48', 'tBodyAcc-energy()-Y', 'fBodyAccJerk-bandsEnergy()-25,48', 'fBodyAccJerk-bandsEnergy()-41,48', 'fBodyGyro-bandsEnergy()-1,16', 'fBodyGyro-bandsEnergy()-17,32']\n"
          ]
        },
        {
          "output_type": "stream",
          "name": "stderr",
          "text": [
            "/usr/local/lib/python3.11/dist-packages/sklearn/utils/validation.py:1408: DataConversionWarning: A column-vector y was passed when a 1d array was expected. Please change the shape of y to (n_samples, ), for example using ravel().\n",
            "  y = column_or_1d(y, warn=True)\n"
          ]
        }
      ]
    },
    {
      "cell_type": "code",
      "source": [
        "# --- STEP 4: Train model on SELECTED features only ---\n",
        "\n",
        "X_train_selected = X_train[selected_features]\n",
        "X_test_selected = X_test[selected_features]\n",
        "\n",
        "clf_selected = RandomForestClassifier(random_state=42)\n",
        "clf_selected.fit(X_train_selected, y_train)\n",
        "y_pred_selected = clf_selected.predict(X_test_selected)\n",
        "acc_selected = accuracy_score(y_test, y_pred_selected)\n",
        "print(f\"\\nAccuracy using SELECTED Top-{len(selected_features)} features: {acc_selected:.4f}\")\n"
      ],
      "metadata": {
        "colab": {
          "base_uri": "https://localhost:8080/"
        },
        "id": "bDJNHwpCjFu1",
        "outputId": "15e49bab-a7e6-4346-9681-4331df7cd482"
      },
      "execution_count": null,
      "outputs": [
        {
          "output_type": "stream",
          "name": "stderr",
          "text": [
            "/usr/local/lib/python3.11/dist-packages/sklearn/base.py:1389: DataConversionWarning: A column-vector y was passed when a 1d array was expected. Please change the shape of y to (n_samples,), for example using ravel().\n",
            "  return fit_method(estimator, *args, **kwargs)\n"
          ]
        },
        {
          "output_type": "stream",
          "name": "stdout",
          "text": [
            "\n",
            "Accuracy using SELECTED Top-280 features: 0.9355\n"
          ]
        }
      ]
    },
    {
      "cell_type": "code",
      "source": [
        "# --- STEP 5: Visualization of Performance Analysis ---\n",
        "\n",
        "# Accuracy scores\n",
        "accuracies = [acc_all, acc_selected]\n",
        "labels = ['All Features', f'Selected Top-{len(selected_features)} Features']\n",
        "\n",
        "# Plotting\n",
        "plt.figure(figsize=(8, 5))\n",
        "bars = plt.bar(labels, accuracies, color=['skyblue', 'lightgreen'])\n",
        "plt.ylim(0, 1)\n",
        "plt.title(\"Model Accuracy Comparison\")\n",
        "plt.ylabel(\"Accuracy\")\n",
        "plt.xlabel(\"Feature Selection Method\")\n",
        "\n",
        "# Annotate bars with accuracy values\n",
        "for bar, acc in zip(bars, accuracies):\n",
        "    yval = bar.get_height()\n",
        "    plt.text(bar.get_x() + bar.get_width() / 2, yval + 0.01, f\"{acc:.4f}\", ha='center', va='bottom')\n",
        "\n",
        "plt.tight_layout()\n",
        "plt.show()"
      ],
      "metadata": {
        "colab": {
          "base_uri": "https://localhost:8080/",
          "height": 507
        },
        "id": "wKqG3zJj--Tl",
        "outputId": "5a95ef79-7c13-4410-eabc-8e196cd37d78"
      },
      "execution_count": null,
      "outputs": [
        {
          "output_type": "display_data",
          "data": {
            "text/plain": [
              "<Figure size 800x500 with 1 Axes>"
            ],
            "image/png": "[encoded data removed]"
          },
          "metadata": {}
        }
      ]
    }
  ]
}